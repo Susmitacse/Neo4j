{
 "cells": [
  {
   "cell_type": "markdown",
   "metadata": {
    "pycharm": {}
   },
   "source": [
    "# Setting up your environment\n",
    "\n",
    "\n",
    "\n",
    "## Libraries\n",
    "\n",
    "Install some of the libraries\n"
   ]
  },
  {
   "cell_type": "code",
   "execution_count": 2,
   "metadata": {
    "pycharm": {}
   },
   "outputs": [
    {
     "name": "stdout",
     "output_type": "stream",
     "text": [
      "Requirement already satisfied: py2neo in c:\\users\\susmita das\\anaconda3\\lib\\site-packages (2021.0.1)\n",
      "Requirement already satisfied: pandas in c:\\users\\susmita das\\anaconda3\\lib\\site-packages (1.1.3)\n",
      "Requirement already satisfied: matplotlib in c:\\users\\susmita das\\anaconda3\\lib\\site-packages (3.3.2)\n",
      "Requirement already satisfied: sklearn in c:\\users\\susmita das\\anaconda3\\lib\\site-packages (0.0)\n",
      "Requirement already satisfied: urllib3 in c:\\users\\susmita das\\anaconda3\\lib\\site-packages (from py2neo) (1.25.11)\n",
      "Requirement already satisfied: english in c:\\users\\susmita das\\anaconda3\\lib\\site-packages (from py2neo) (2020.7.0)\n",
      "Requirement already satisfied: monotonic in c:\\users\\susmita das\\anaconda3\\lib\\site-packages (from py2neo) (1.6)\n",
      "Requirement already satisfied: pytz in c:\\users\\susmita das\\anaconda3\\lib\\site-packages (from py2neo) (2020.1)\n",
      "Requirement already satisfied: certifi in c:\\users\\susmita das\\anaconda3\\lib\\site-packages (from py2neo) (2020.12.5)\n",
      "Requirement already satisfied: pygments>=2.0.0 in c:\\users\\susmita das\\anaconda3\\lib\\site-packages (from py2neo) (2.7.2)\n",
      "Requirement already satisfied: cryptography in c:\\users\\susmita das\\anaconda3\\lib\\site-packages (from py2neo) (3.1.1)\n",
      "Requirement already satisfied: neotime~=1.7.4 in c:\\users\\susmita das\\anaconda3\\lib\\site-packages (from py2neo) (1.7.4)\n",
      "Requirement already satisfied: pansi>=2020.7.3 in c:\\users\\susmita das\\anaconda3\\lib\\site-packages (from py2neo) (2020.7.3)\n",
      "Requirement already satisfied: prompt-toolkit~=2.0.7 in c:\\users\\susmita das\\anaconda3\\lib\\site-packages (from py2neo) (2.0.10)\n",
      "Requirement already satisfied: docker in c:\\users\\susmita das\\anaconda3\\lib\\site-packages (from py2neo) (5.0.0)\n",
      "Requirement already satisfied: six>=1.15.0 in c:\\users\\susmita das\\anaconda3\\lib\\site-packages (from py2neo) (1.15.0)\n",
      "Requirement already satisfied: packaging in c:\\users\\susmita das\\anaconda3\\lib\\site-packages (from py2neo) (20.4)\n",
      "Requirement already satisfied: python-dateutil>=2.7.3 in c:\\users\\susmita das\\anaconda3\\lib\\site-packages (from pandas) (2.8.1)\n",
      "Requirement already satisfied: numpy>=1.15.4 in c:\\users\\susmita das\\anaconda3\\lib\\site-packages (from pandas) (1.19.2)\n",
      "Requirement already satisfied: cycler>=0.10 in c:\\users\\susmita das\\anaconda3\\lib\\site-packages (from matplotlib) (0.10.0)\n",
      "Requirement already satisfied: pyparsing!=2.0.4,!=2.1.2,!=2.1.6,>=2.0.3 in c:\\users\\susmita das\\anaconda3\\lib\\site-packages (from matplotlib) (2.4.7)\n",
      "Requirement already satisfied: kiwisolver>=1.0.1 in c:\\users\\susmita das\\anaconda3\\lib\\site-packages (from matplotlib) (1.3.0)\n",
      "Requirement already satisfied: pillow>=6.2.0 in c:\\users\\susmita das\\anaconda3\\lib\\site-packages (from matplotlib) (8.0.1)\n",
      "Requirement already satisfied: scikit-learn in c:\\users\\susmita das\\anaconda3\\lib\\site-packages (from sklearn) (0.23.2)\n",
      "Requirement already satisfied: cffi!=1.11.3,>=1.8 in c:\\users\\susmita das\\anaconda3\\lib\\site-packages (from cryptography->py2neo) (1.14.3)\n",
      "Requirement already satisfied: wcwidth in c:\\users\\susmita das\\anaconda3\\lib\\site-packages (from prompt-toolkit~=2.0.7->py2neo) (0.2.5)\n",
      "Requirement already satisfied: websocket-client>=0.32.0 in c:\\users\\susmita das\\anaconda3\\lib\\site-packages (from docker->py2neo) (0.58.0)\n",
      "Requirement already satisfied: requests!=2.18.0,>=2.14.2 in c:\\users\\susmita das\\anaconda3\\lib\\site-packages (from docker->py2neo) (2.24.0)\n",
      "Requirement already satisfied: pywin32==227; sys_platform == \"win32\" in c:\\users\\susmita das\\anaconda3\\lib\\site-packages (from docker->py2neo) (227)\n",
      "Requirement already satisfied: scipy>=0.19.1 in c:\\users\\susmita das\\anaconda3\\lib\\site-packages (from scikit-learn->sklearn) (1.6.0)\n",
      "Requirement already satisfied: joblib>=0.11 in c:\\users\\susmita das\\anaconda3\\lib\\site-packages (from scikit-learn->sklearn) (0.17.0)\n",
      "Requirement already satisfied: threadpoolctl>=2.0.0 in c:\\users\\susmita das\\anaconda3\\lib\\site-packages (from scikit-learn->sklearn) (2.1.0)\n",
      "Requirement already satisfied: pycparser in c:\\users\\susmita das\\anaconda3\\lib\\site-packages (from cffi!=1.11.3,>=1.8->cryptography->py2neo) (2.20)\n",
      "Requirement already satisfied: chardet<4,>=3.0.2 in c:\\users\\susmita das\\anaconda3\\lib\\site-packages (from requests!=2.18.0,>=2.14.2->docker->py2neo) (3.0.4)\n",
      "Requirement already satisfied: idna<3,>=2.5 in c:\\users\\susmita das\\anaconda3\\lib\\site-packages (from requests!=2.18.0,>=2.14.2->docker->py2neo) (2.10)\n"
     ]
    }
   ],
   "source": [
    "!pip install py2neo pandas matplotlib sklearn"
   ]
  },
  {
   "cell_type": "markdown",
   "metadata": {
    "pycharm": {}
   },
   "source": [
    "\n",
    "\n",
    "Start by importing py2neo library which you will use to import the data into Neo4j. py2neo is a client library and toolkit for working with Neo4j from within Python applications. It is well suited for Data Science workflows and has great integration with other Python Data Science tools. "
   ]
  },
  {
   "cell_type": "code",
   "execution_count": 3,
   "metadata": {
    "pycharm": {}
   },
   "outputs": [],
   "source": [
    "from py2neo import Graph"
   ]
  },
  {
   "cell_type": "markdown",
   "metadata": {
    "pycharm": {}
   },
   "source": [
    "## Neo4j Desktop\n",
    "\n",
    "You should already have a Neo4j Database started. Change the password below to the one you chose when you created the database instance.\n"
   ]
  },
  {
   "cell_type": "code",
   "execution_count": 5,
   "metadata": {
    "pycharm": {}
   },
   "outputs": [],
   "source": [
    "# Change the line of code below to use the Bolt URL,  and Password of your Neo4j database instance.\n",
    "# graph = Graph(\"<Bolt URL>\", auth=(\"neo4j\", \"<Password>\")) \n",
    " \n",
    "graph = Graph(\"bolt://localhost:7687\", auth=(\"neo4j\", \"1234\"))"
   ]
  },
  {
   "cell_type": "markdown",
   "metadata": {
    "pycharm": {}
   },
   "source": []
  },
  {
   "cell_type": "code",
   "execution_count": null,
   "metadata": {
    "pycharm": {}
   },
   "outputs": [],
   "source": []
  }
 ],
 "metadata": {
  "kernelspec": {
   "display_name": "Python 3",
   "language": "python",
   "name": "python3"
  },
  "language_info": {
   "codemirror_mode": {
    "name": "ipython",
    "version": 3
   },
   "file_extension": ".py",
   "mimetype": "text/x-python",
   "name": "python",
   "nbconvert_exporter": "python",
   "pygments_lexer": "ipython3",
   "version": "3.8.5"
  }
 },
 "nbformat": 4,
 "nbformat_minor": 2
}
