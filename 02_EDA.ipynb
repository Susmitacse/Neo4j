{
 "cells": [
  {
   "cell_type": "markdown",
   "metadata": {
    "pycharm": {}
   },
   "source": [
    "# Exploratory Data Analysis\n",
    "\n",
    "\n",
    "In this notebook we will explore the citation dataset. You should already have installed py2neo, pandas, and matplotlib when setting up our environment, so you will now import them (remember to unset Reset all runtimes before running):"
   ]
  },
  {
   "cell_type": "code",
   "execution_count": 4,
   "metadata": {
    "pycharm": {}
   },
   "outputs": [],
   "source": [
    "from py2neo import Graph\n",
    "import pandas as pd\n",
    "\n",
    "import matplotlib \n",
    "import matplotlib.pyplot as plt\n",
    "\n",
    "plt.style.use('fivethirtyeight')\n",
    "pd.set_option('display.float_format', lambda x: '%.3f' % x)"
   ]
  },
  {
   "cell_type": "markdown",
   "metadata": {
    "pycharm": {}
   },
   "source": [
    "Update the cell below to use the IP Address, Bolt Port, and Password, as you did previously."
   ]
  },
  {
   "cell_type": "code",
   "execution_count": 5,
   "metadata": {
    "pycharm": {}
   },
   "outputs": [],
   "source": [
    "# Change the line of code below to use the Bolt URL,  and Password of your Neo4j Database instance.\n",
    "# graph = Graph(\"<Bolt URL>\", auth=(\"neo4j\", \"<Password>\")) \n",
    " \n",
    "graph = Graph(\"bolt://localhost:7687\", auth=(\"neo4j\", \"1234\"))"
   ]
  },
  {
   "cell_type": "markdown",
   "metadata": {
    "pycharm": {}
   },
   "source": [
    "## What's in our database?\n",
    "\n",
    "Run the following query to check how many nodes the database contains:"
   ]
  },
  {
   "cell_type": "code",
   "execution_count": 6,
   "metadata": {
    "pycharm": {}
   },
   "outputs": [
    {
     "data": {
      "text/plain": [
       "[{'nodes': [Node('Venue', constraints=[\"Constraint( id=6, name='constraint_ae6d9b7b', type='UNIQUENESS', schema=(:Venue {name}), ownedIndex=5 )\"], indexes=[], name='Venue'),\n",
       "   Node('Article', constraints=[\"Constraint( id=2, name='constraint_2e688049', type='UNIQUENESS', schema=(:Article {index}), ownedIndex=1 )\"], indexes=[], name='Article'),\n",
       "   Node('Author', constraints=[\"Constraint( id=4, name='constraint_293d3e9e', type='UNIQUENESS', schema=(:Author {name}), ownedIndex=3 )\"], indexes=[], name='Author')],\n",
       "  'relationships': [VENUE(Node(), Node()),\n",
       "   AUTHOR(Node(), Node()),\n",
       "   CITED(Node(), Node())]}]"
      ]
     },
     "execution_count": 6,
     "metadata": {},
     "output_type": "execute_result"
    }
   ],
   "source": [
    "graph.run(\"CALL db.schema.visualization()\").data()"
   ]
  },
  {
   "cell_type": "markdown",
   "metadata": {
    "pycharm": {}
   },
   "source": [
    "If you run that query (CALL db.schema.visualization()) in  Neo4j Browser, you see the following visualization:\n",
    "\n",
    "<img src=\"images/data-science-training.png\" alt=\"Graph Data Model\"/>\n"
   ]
  },
  {
   "cell_type": "markdown",
   "metadata": {
    "pycharm": {}
   },
   "source": [
    "Drill down a bit. How many nodes do we have for each of these labels? Run this code:"
   ]
  },
  {
   "cell_type": "code",
   "execution_count": 7,
   "metadata": {
    "pycharm": {}
   },
   "outputs": [
    {
     "data": {
      "text/html": [
       "<div>\n",
       "<style scoped>\n",
       "    .dataframe tbody tr th:only-of-type {\n",
       "        vertical-align: middle;\n",
       "    }\n",
       "\n",
       "    .dataframe tbody tr th {\n",
       "        vertical-align: top;\n",
       "    }\n",
       "\n",
       "    .dataframe thead th {\n",
       "        text-align: right;\n",
       "    }\n",
       "</style>\n",
       "<table border=\"1\" class=\"dataframe\">\n",
       "  <thead>\n",
       "    <tr style=\"text-align: right;\">\n",
       "      <th></th>\n",
       "      <th>label</th>\n",
       "      <th>count</th>\n",
       "    </tr>\n",
       "  </thead>\n",
       "  <tbody>\n",
       "    <tr>\n",
       "      <th>2</th>\n",
       "      <td>Venue</td>\n",
       "      <td>4</td>\n",
       "    </tr>\n",
       "    <tr>\n",
       "      <th>1</th>\n",
       "      <td>Author</td>\n",
       "      <td>80299</td>\n",
       "    </tr>\n",
       "    <tr>\n",
       "      <th>0</th>\n",
       "      <td>Article</td>\n",
       "      <td>184313</td>\n",
       "    </tr>\n",
       "  </tbody>\n",
       "</table>\n",
       "</div>"
      ],
      "text/plain": [
       "     label   count\n",
       "2    Venue       4\n",
       "1   Author   80299\n",
       "0  Article  184313"
      ]
     },
     "execution_count": 7,
     "metadata": {},
     "output_type": "execute_result"
    }
   ],
   "source": [
    "result = {\"label\": [], \"count\": []}\n",
    "for label in graph.run(\"CALL db.labels()\").to_series():\n",
    "    query = f\"MATCH (:`{label}`) RETURN count(*) as count\"\n",
    "    count = graph.run(query).to_data_frame().iloc[0]['count']\n",
    "    result[\"label\"].append(label)\n",
    "    result[\"count\"].append(count)\n",
    "nodes_df = pd.DataFrame(data=result)\n",
    "nodes_df.sort_values(\"count\")"
   ]
  },
  {
   "cell_type": "markdown",
   "metadata": {
    "pycharm": {}
   },
   "source": [
    "You can visualize the counts using matplotlib. Run the following code:"
   ]
  },
  {
   "cell_type": "code",
   "execution_count": 8,
   "metadata": {
    "pycharm": {}
   },
   "outputs": [
    {
     "data": {
      "image/png": "[encoded data removed]",
      "text/plain": [
       "<Figure size 432x288 with 1 Axes>"
      ]
     },
     "metadata": {},
     "output_type": "display_data"
    }
   ],
   "source": [
    "nodes_df.plot(kind='bar', x='label', y='count', legend=None, title=\"Node Cardinalities\")\n",
    "plt.xticks(rotation=45)\n",
    "plt.tight_layout()\n",
    "plt.show()"
   ]
  },
  {
   "cell_type": "markdown",
   "metadata": {
    "pycharm": {}
   },
   "source": [
    "What types of relationships do we have in our graph? Run this code:"
   ]
  },
  {
   "cell_type": "code",
   "execution_count": 9,
   "metadata": {
    "pycharm": {}
   },
   "outputs": [
    {
     "data": {
      "text/html": [
       "<div>\n",
       "<style scoped>\n",
       "    .dataframe tbody tr th:only-of-type {\n",
       "        vertical-align: middle;\n",
       "    }\n",
       "\n",
       "    .dataframe tbody tr th {\n",
       "        vertical-align: top;\n",
       "    }\n",
       "\n",
       "    .dataframe thead th {\n",
       "        text-align: right;\n",
       "    }\n",
       "</style>\n",
       "<table border=\"1\" class=\"dataframe\">\n",
       "  <thead>\n",
       "    <tr style=\"text-align: right;\">\n",
       "      <th></th>\n",
       "      <th>relType</th>\n",
       "      <th>count</th>\n",
       "    </tr>\n",
       "  </thead>\n",
       "  <tbody>\n",
       "    <tr>\n",
       "      <th>0</th>\n",
       "      <td>VENUE</td>\n",
       "      <td>51956</td>\n",
       "    </tr>\n",
       "    <tr>\n",
       "      <th>1</th>\n",
       "      <td>AUTHOR</td>\n",
       "      <td>140575</td>\n",
       "    </tr>\n",
       "    <tr>\n",
       "      <th>2</th>\n",
       "      <td>CITED</td>\n",
       "      <td>289908</td>\n",
       "    </tr>\n",
       "  </tbody>\n",
       "</table>\n",
       "</div>"
      ],
      "text/plain": [
       "  relType   count\n",
       "0   VENUE   51956\n",
       "1  AUTHOR  140575\n",
       "2   CITED  289908"
      ]
     },
     "execution_count": 9,
     "metadata": {},
     "output_type": "execute_result"
    }
   ],
   "source": [
    "result = {\"relType\": [], \"count\": []}\n",
    "for relationship_type in graph.run(\"CALL db.relationshipTypes()\").to_series():\n",
    "    query = f\"MATCH ()-[:`{relationship_type}`]->() RETURN count(*) as count\"\n",
    "    count = graph.run(query).to_data_frame().iloc[0]['count']\n",
    "    result[\"relType\"].append(relationship_type)\n",
    "    result[\"count\"].append(count)\n",
    "rels_df = pd.DataFrame(data=result)\n",
    "rels_df.sort_values(\"count\")"
   ]
  },
  {
   "cell_type": "markdown",
   "metadata": {
    "pycharm": {}
   },
   "source": [
    "You can visualize the counts using matplotlib. Run  the following code:"
   ]
  },
  {
   "cell_type": "code",
   "execution_count": 10,
   "metadata": {
    "pycharm": {}
   },
   "outputs": [
    {
     "data": {
      "image/png": "[encoded data removed]",
      "text/plain": [
       "<Figure size 432x288 with 1 Axes>"
      ]
     },
     "metadata": {},
     "output_type": "display_data"
    }
   ],
   "source": [
    "rels_df.plot(kind='bar', x='relType', y='count', legend=None, title=\"Relationship Cardinalities\")\n",
    "plt.xticks(rotation=45)\n",
    "plt.tight_layout()\n",
    "plt.show()"
   ]
  },
  {
   "cell_type": "markdown",
   "metadata": {
    "pycharm": {}
   },
   "source": [
    "Next,  you will explore the citation data. The following query finds 25 authors, articles, venues, and also shows the number of articles that article has cited, as well as the number of articles that it's been cited by.\n",
    "Run this code:"
   ]
  },
  {
   "cell_type": "code",
   "execution_count": 11,
   "metadata": {
    "pycharm": {}
   },
   "outputs": [
    {
     "data": {
      "text/html": [
       "<div>\n",
       "<style scoped>\n",
       "    .dataframe tbody tr th:only-of-type {\n",
       "        vertical-align: middle;\n",
       "    }\n",
       "\n",
       "    .dataframe tbody tr th {\n",
       "        vertical-align: top;\n",
       "    }\n",
       "\n",
       "    .dataframe thead th {\n",
       "        text-align: right;\n",
       "    }\n",
       "</style>\n",
       "<table border=\"1\" class=\"dataframe\">\n",
       "  <thead>\n",
       "    <tr style=\"text-align: right;\">\n",
       "      <th></th>\n",
       "      <th>article</th>\n",
       "      <th>author</th>\n",
       "      <th>venue</th>\n",
       "      <th>citationsGiven</th>\n",
       "      <th>citationsReceived</th>\n",
       "    </tr>\n",
       "  </thead>\n",
       "  <tbody>\n",
       "    <tr>\n",
       "      <th>0</th>\n",
       "      <td>Query by humming with the VocalSearch system</td>\n",
       "      <td>Roger B. Dannenberg</td>\n",
       "      <td>Communications of The ACM</td>\n",
       "      <td>8</td>\n",
       "      <td>1</td>\n",
       "    </tr>\n",
       "    <tr>\n",
       "      <th>1</th>\n",
       "      <td>Speaking Autonomous Intelligent Devices</td>\n",
       "      <td>Robert J. Ross</td>\n",
       "      <td>Lecture Notes in Computer Science</td>\n",
       "      <td>0</td>\n",
       "      <td>0</td>\n",
       "    </tr>\n",
       "    <tr>\n",
       "      <th>2</th>\n",
       "      <td>RFID-based techniques for human-activity detec...</td>\n",
       "      <td>Alexander V. Mamishev</td>\n",
       "      <td>Communications of The ACM</td>\n",
       "      <td>4</td>\n",
       "      <td>0</td>\n",
       "    </tr>\n",
       "    <tr>\n",
       "      <th>3</th>\n",
       "      <td>Anton, a special-purpose machine for molecular...</td>\n",
       "      <td>Douglas J. Ierardi</td>\n",
       "      <td>Communications of The ACM</td>\n",
       "      <td>11</td>\n",
       "      <td>1</td>\n",
       "    </tr>\n",
       "    <tr>\n",
       "      <th>4</th>\n",
       "      <td>Jamming-based adversarial control of network f...</td>\n",
       "      <td>Phillip Lee</td>\n",
       "      <td>advances in computing and communications</td>\n",
       "      <td>12</td>\n",
       "      <td>0</td>\n",
       "    </tr>\n",
       "    <tr>\n",
       "      <th>5</th>\n",
       "      <td>Multicode Multirate Compact Assignment of OVSF...</td>\n",
       "      <td>Yang Yang</td>\n",
       "      <td>Lecture Notes in Computer Science</td>\n",
       "      <td>10</td>\n",
       "      <td>0</td>\n",
       "    </tr>\n",
       "    <tr>\n",
       "      <th>6</th>\n",
       "      <td>Word Classification Using Neural Network</td>\n",
       "      <td>R. Rajesh</td>\n",
       "      <td>advances in computing and communications</td>\n",
       "      <td>18</td>\n",
       "      <td>0</td>\n",
       "    </tr>\n",
       "    <tr>\n",
       "      <th>7</th>\n",
       "      <td>Efficient FPGA implementation of a knowledge-b...</td>\n",
       "      <td>Salvatore Vitabile</td>\n",
       "      <td>Lecture Notes in Computer Science</td>\n",
       "      <td>0</td>\n",
       "      <td>0</td>\n",
       "    </tr>\n",
       "    <tr>\n",
       "      <th>8</th>\n",
       "      <td>Privacy enforcement for IT governance in enter...</td>\n",
       "      <td>Pete Bramhall</td>\n",
       "      <td>Lecture Notes in Computer Science</td>\n",
       "      <td>0</td>\n",
       "      <td>0</td>\n",
       "    </tr>\n",
       "    <tr>\n",
       "      <th>9</th>\n",
       "      <td>The COOLFluiD parallel architecture</td>\n",
       "      <td>Andrea Lani</td>\n",
       "      <td>Lecture Notes in Computer Science</td>\n",
       "      <td>1</td>\n",
       "      <td>0</td>\n",
       "    </tr>\n",
       "    <tr>\n",
       "      <th>10</th>\n",
       "      <td>MAT: an end-to-end mobile communication archit...</td>\n",
       "      <td>Kaori Maeda</td>\n",
       "      <td>Lecture Notes in Computer Science</td>\n",
       "      <td>5</td>\n",
       "      <td>0</td>\n",
       "    </tr>\n",
       "    <tr>\n",
       "      <th>11</th>\n",
       "      <td>Online virtual disk migration with performance...</td>\n",
       "      <td>Yong Feng</td>\n",
       "      <td>Lecture Notes in Computer Science</td>\n",
       "      <td>0</td>\n",
       "      <td>0</td>\n",
       "    </tr>\n",
       "    <tr>\n",
       "      <th>12</th>\n",
       "      <td>VSDITLU: A verifiable symbolic definite integr...</td>\n",
       "      <td>Andrew A. Adams</td>\n",
       "      <td>Lecture Notes in Computer Science</td>\n",
       "      <td>0</td>\n",
       "      <td>0</td>\n",
       "    </tr>\n",
       "    <tr>\n",
       "      <th>13</th>\n",
       "      <td>Using Bayesian Networks to Model Emergency Med...</td>\n",
       "      <td>Susana Rodrıguez</td>\n",
       "      <td>Lecture Notes in Computer Science</td>\n",
       "      <td>6</td>\n",
       "      <td>0</td>\n",
       "    </tr>\n",
       "    <tr>\n",
       "      <th>14</th>\n",
       "      <td>The role of asynchronous discussions in increa...</td>\n",
       "      <td>Daniela Damian</td>\n",
       "      <td>international conference on software engineering</td>\n",
       "      <td>13</td>\n",
       "      <td>1</td>\n",
       "    </tr>\n",
       "    <tr>\n",
       "      <th>15</th>\n",
       "      <td>Best practices in extreme programming course d...</td>\n",
       "      <td>Daniel Lübke</td>\n",
       "      <td>international conference on software engineering</td>\n",
       "      <td>5</td>\n",
       "      <td>2</td>\n",
       "    </tr>\n",
       "    <tr>\n",
       "      <th>16</th>\n",
       "      <td>Provision of QoS for Legacy IP Applications in...</td>\n",
       "      <td>Stefan Wahl</td>\n",
       "      <td>Lecture Notes in Computer Science</td>\n",
       "      <td>1</td>\n",
       "      <td>0</td>\n",
       "    </tr>\n",
       "    <tr>\n",
       "      <th>17</th>\n",
       "      <td>Learning theory with consensus in reproducing ...</td>\n",
       "      <td>Zhaoda Deng</td>\n",
       "      <td>advances in computing and communications</td>\n",
       "      <td>3</td>\n",
       "      <td>0</td>\n",
       "    </tr>\n",
       "    <tr>\n",
       "      <th>18</th>\n",
       "      <td>Information science in a Ph.D. computer scienc...</td>\n",
       "      <td>Gerard Salton</td>\n",
       "      <td>Communications of The ACM</td>\n",
       "      <td>47</td>\n",
       "      <td>1</td>\n",
       "    </tr>\n",
       "    <tr>\n",
       "      <th>19</th>\n",
       "      <td>Geodesics Between 3D Closed Curves Using Path-...</td>\n",
       "      <td>Anuj Srivastava</td>\n",
       "      <td>Lecture Notes in Computer Science</td>\n",
       "      <td>0</td>\n",
       "      <td>0</td>\n",
       "    </tr>\n",
       "    <tr>\n",
       "      <th>20</th>\n",
       "      <td>Certification of Algorithm 72: Composition gen...</td>\n",
       "      <td>D. M. Collison</td>\n",
       "      <td>Communications of The ACM</td>\n",
       "      <td>0</td>\n",
       "      <td>0</td>\n",
       "    </tr>\n",
       "    <tr>\n",
       "      <th>21</th>\n",
       "      <td>Real-time emotion recognition using biological...</td>\n",
       "      <td>Keith Anderson</td>\n",
       "      <td>Lecture Notes in Computer Science</td>\n",
       "      <td>8</td>\n",
       "      <td>0</td>\n",
       "    </tr>\n",
       "    <tr>\n",
       "      <th>22</th>\n",
       "      <td>Watermarking of MPEG-4 Videos</td>\n",
       "      <td>Abhinav Gupta</td>\n",
       "      <td>Lecture Notes in Computer Science</td>\n",
       "      <td>3</td>\n",
       "      <td>0</td>\n",
       "    </tr>\n",
       "    <tr>\n",
       "      <th>23</th>\n",
       "      <td>Software Process Improvement in Small and Medi...</td>\n",
       "      <td>Markku Tukiainen</td>\n",
       "      <td>Lecture Notes in Computer Science</td>\n",
       "      <td>9</td>\n",
       "      <td>0</td>\n",
       "    </tr>\n",
       "    <tr>\n",
       "      <th>24</th>\n",
       "      <td>When and why your code starts to smell bad</td>\n",
       "      <td>Andrea De Lucia</td>\n",
       "      <td>international conference on software engineering</td>\n",
       "      <td>40</td>\n",
       "      <td>2</td>\n",
       "    </tr>\n",
       "  </tbody>\n",
       "</table>\n",
       "</div>"
      ],
      "text/plain": [
       "                                              article                 author  \\\n",
       "0        Query by humming with the VocalSearch system    Roger B. Dannenberg   \n",
       "1             Speaking Autonomous Intelligent Devices         Robert J. Ross   \n",
       "2   RFID-based techniques for human-activity detec...  Alexander V. Mamishev   \n",
       "3   Anton, a special-purpose machine for molecular...     Douglas J. Ierardi   \n",
       "4   Jamming-based adversarial control of network f...            Phillip Lee   \n",
       "5   Multicode Multirate Compact Assignment of OVSF...              Yang Yang   \n",
       "6            Word Classification Using Neural Network              R. Rajesh   \n",
       "7   Efficient FPGA implementation of a knowledge-b...     Salvatore Vitabile   \n",
       "8   Privacy enforcement for IT governance in enter...          Pete Bramhall   \n",
       "9                 The COOLFluiD parallel architecture            Andrea Lani   \n",
       "10  MAT: an end-to-end mobile communication archit...            Kaori Maeda   \n",
       "11  Online virtual disk migration with performance...              Yong Feng   \n",
       "12  VSDITLU: A verifiable symbolic definite integr...        Andrew A. Adams   \n",
       "13  Using Bayesian Networks to Model Emergency Med...       Susana Rodrıguez   \n",
       "14  The role of asynchronous discussions in increa...         Daniela Damian   \n",
       "15  Best practices in extreme programming course d...           Daniel Lübke   \n",
       "16  Provision of QoS for Legacy IP Applications in...            Stefan Wahl   \n",
       "17  Learning theory with consensus in reproducing ...            Zhaoda Deng   \n",
       "18  Information science in a Ph.D. computer scienc...          Gerard Salton   \n",
       "19  Geodesics Between 3D Closed Curves Using Path-...        Anuj Srivastava   \n",
       "20  Certification of Algorithm 72: Composition gen...         D. M. Collison   \n",
       "21  Real-time emotion recognition using biological...         Keith Anderson   \n",
       "22                      Watermarking of MPEG-4 Videos          Abhinav Gupta   \n",
       "23  Software Process Improvement in Small and Medi...       Markku Tukiainen   \n",
       "24         When and why your code starts to smell bad        Andrea De Lucia   \n",
       "\n",
       "                                               venue  citationsGiven  \\\n",
       "0                          Communications of The ACM               8   \n",
       "1                  Lecture Notes in Computer Science               0   \n",
       "2                          Communications of The ACM               4   \n",
       "3                          Communications of The ACM              11   \n",
       "4           advances in computing and communications              12   \n",
       "5                  Lecture Notes in Computer Science              10   \n",
       "6           advances in computing and communications              18   \n",
       "7                  Lecture Notes in Computer Science               0   \n",
       "8                  Lecture Notes in Computer Science               0   \n",
       "9                  Lecture Notes in Computer Science               1   \n",
       "10                 Lecture Notes in Computer Science               5   \n",
       "11                 Lecture Notes in Computer Science               0   \n",
       "12                 Lecture Notes in Computer Science               0   \n",
       "13                 Lecture Notes in Computer Science               6   \n",
       "14  international conference on software engineering              13   \n",
       "15  international conference on software engineering               5   \n",
       "16                 Lecture Notes in Computer Science               1   \n",
       "17          advances in computing and communications               3   \n",
       "18                         Communications of The ACM              47   \n",
       "19                 Lecture Notes in Computer Science               0   \n",
       "20                         Communications of The ACM               0   \n",
       "21                 Lecture Notes in Computer Science               8   \n",
       "22                 Lecture Notes in Computer Science               3   \n",
       "23                 Lecture Notes in Computer Science               9   \n",
       "24  international conference on software engineering              40   \n",
       "\n",
       "    citationsReceived  \n",
       "0                   1  \n",
       "1                   0  \n",
       "2                   0  \n",
       "3                   1  \n",
       "4                   0  \n",
       "5                   0  \n",
       "6                   0  \n",
       "7                   0  \n",
       "8                   0  \n",
       "9                   0  \n",
       "10                  0  \n",
       "11                  0  \n",
       "12                  0  \n",
       "13                  0  \n",
       "14                  1  \n",
       "15                  2  \n",
       "16                  0  \n",
       "17                  0  \n",
       "18                  1  \n",
       "19                  0  \n",
       "20                  0  \n",
       "21                  0  \n",
       "22                  0  \n",
       "23                  0  \n",
       "24                  2  "
      ]
     },
     "execution_count": 11,
     "metadata": {},
     "output_type": "execute_result"
    }
   ],
   "source": [
    "exploratory_query = \"\"\"\n",
    "MATCH (author:Author)<-[:AUTHOR]-(article:Article)-[:VENUE]->(venue)\n",
    "RETURN article.title AS article, author.name AS author, venue.name AS venue, \n",
    "       size((article)-[:CITED]->()) AS citationsGiven, size((article)<-[:CITED]-()) AS citationsReceived\n",
    "ORDER BY rand()\n",
    "LIMIT 25\n",
    "\"\"\"\n",
    "\n",
    "graph.run(exploratory_query).to_data_frame()"
   ]
  },
  {
   "cell_type": "markdown",
   "metadata": {
    "pycharm": {}
   },
   "source": [
    "Examine the citation data more closely. Here is a query that returns the number of citations that each article has, and then creates a distribution of those counts using pandas `describe` function. Run this code:"
   ]
  },
  {
   "cell_type": "code",
   "execution_count": 12,
   "metadata": {
    "pycharm": {}
   },
   "outputs": [
    {
     "data": {
      "text/html": [
       "<div>\n",
       "<style scoped>\n",
       "    .dataframe tbody tr th:only-of-type {\n",
       "        vertical-align: middle;\n",
       "    }\n",
       "\n",
       "    .dataframe tbody tr th {\n",
       "        vertical-align: top;\n",
       "    }\n",
       "\n",
       "    .dataframe thead th {\n",
       "        text-align: right;\n",
       "    }\n",
       "</style>\n",
       "<table border=\"1\" class=\"dataframe\">\n",
       "  <thead>\n",
       "    <tr style=\"text-align: right;\">\n",
       "      <th></th>\n",
       "      <th>citations</th>\n",
       "    </tr>\n",
       "  </thead>\n",
       "  <tbody>\n",
       "    <tr>\n",
       "      <th>count</th>\n",
       "      <td>184313.000</td>\n",
       "    </tr>\n",
       "    <tr>\n",
       "      <th>mean</th>\n",
       "      <td>1.573</td>\n",
       "    </tr>\n",
       "    <tr>\n",
       "      <th>std</th>\n",
       "      <td>3.386</td>\n",
       "    </tr>\n",
       "    <tr>\n",
       "      <th>min</th>\n",
       "      <td>0.000</td>\n",
       "    </tr>\n",
       "    <tr>\n",
       "      <th>25%</th>\n",
       "      <td>1.000</td>\n",
       "    </tr>\n",
       "    <tr>\n",
       "      <th>50%</th>\n",
       "      <td>1.000</td>\n",
       "    </tr>\n",
       "    <tr>\n",
       "      <th>75%</th>\n",
       "      <td>2.000</td>\n",
       "    </tr>\n",
       "    <tr>\n",
       "      <th>90%</th>\n",
       "      <td>3.000</td>\n",
       "    </tr>\n",
       "    <tr>\n",
       "      <th>99%</th>\n",
       "      <td>12.000</td>\n",
       "    </tr>\n",
       "    <tr>\n",
       "      <th>max</th>\n",
       "      <td>276.000</td>\n",
       "    </tr>\n",
       "  </tbody>\n",
       "</table>\n",
       "</div>"
      ],
      "text/plain": [
       "       citations\n",
       "count 184313.000\n",
       "mean       1.573\n",
       "std        3.386\n",
       "min        0.000\n",
       "25%        1.000\n",
       "50%        1.000\n",
       "75%        2.000\n",
       "90%        3.000\n",
       "99%       12.000\n",
       "max      276.000"
      ]
     },
     "execution_count": 12,
     "metadata": {},
     "output_type": "execute_result"
    }
   ],
   "source": [
    "query = \"\"\"\n",
    "MATCH (a:Article)\n",
    "RETURN size((a)<-[:CITED]-()) AS citations\n",
    "\"\"\"\n",
    "\n",
    "citation_df = graph.run(query).to_data_frame()\n",
    "citation_df.describe([.25, .5, .75, .9, .99])"
   ]
  },
  {
   "cell_type": "markdown",
   "metadata": {
    "pycharm": {}
   },
   "source": [
    "Most articles are being cited very few times. 99% of articles have 8 citations or less. Notice that one article has been cited more than 200 times. You will use a log scale histogram to visualize the data. Run this code:"
   ]
  },
  {
   "cell_type": "code",
   "execution_count": 13,
   "metadata": {
    "pycharm": {}
   },
   "outputs": [
    {
     "data": {
      "image/png": "[encoded data removed]",
      "text/plain": [
       "<Figure size 432x288 with 1 Axes>"
      ]
     },
     "metadata": {},
     "output_type": "display_data"
    }
   ],
   "source": [
    "fig1, ax1 = plt.subplots()\n",
    "ax1.hist(pd.Series(citation_df['citations'].dropna()), 1250, density=True, facecolor='g', alpha=0.75)\n",
    "ax1.set_xscale(\"log\")\n",
    "plt.tight_layout()\n",
    "plt.show()"
   ]
  },
  {
   "cell_type": "markdown",
   "metadata": {
    "pycharm": {}
   },
   "source": []
  }
 ],
 "metadata": {
  "kernelspec": {
   "display_name": "Python 3",
   "language": "python",
   "name": "python3"
  },
  "language_info": {
   "codemirror_mode": {
    "name": "ipython",
    "version": 3
   },
   "file_extension": ".py",
   "mimetype": "text/x-python",
   "name": "python",
   "nbconvert_exporter": "python",
   "pygments_lexer": "ipython3",
   "version": "3.8.5"
  }
 },
 "nbformat": 4,
 "nbformat_minor": 2
}
